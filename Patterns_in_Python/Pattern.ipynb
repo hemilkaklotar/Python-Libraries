{
 "cells": [
  {
   "cell_type": "markdown",
   "metadata": {},
   "source": [
    "# Pattern In Python\n",
    "#### by [Hemil Kaklotar](https://github.com/hemilkaklotar)"
   ]
  },
  {
   "cell_type": "code",
   "execution_count": 10,
   "metadata": {},
   "outputs": [
    {
     "name": "stdout",
     "output_type": "stream",
     "text": [
      "A\n",
      "AB\n",
      "ABC\n",
      "ABCD\n",
      "ABCDE\n"
     ]
    }
   ],
   "source": [
    "for i in range(65,70):\n",
    "    for j in range(65,i+1):\n",
    "        print(chr(j),end=\"\")\n",
    "    print(\"\\r\")"
   ]
  },
  {
   "cell_type": "code",
   "execution_count": 11,
   "metadata": {},
   "outputs": [
    {
     "name": "stdout",
     "output_type": "stream",
     "text": [
      "ABCDE\n",
      "ABCD\n",
      "ABC\n",
      "AB\n",
      "A\n"
     ]
    }
   ],
   "source": [
    "for i in range(70,65,-1):\n",
    "    for j in range(65,i):\n",
    "        print(chr(j),end=\"\")\n",
    "    print(\"\\r\")"
   ]
  },
  {
   "cell_type": "code",
   "execution_count": 12,
   "metadata": {},
   "outputs": [
    {
     "name": "stdout",
     "output_type": "stream",
     "text": [
      "A\n",
      "BB\n",
      "CCC\n",
      "DDDD\n",
      "EEEEE\n"
     ]
    }
   ],
   "source": [
    "for i in range(65,70):\n",
    "    for j in range(65,i+1):\n",
    "        print(chr(i),end=\"\")\n",
    "    print(\"\\r\")"
   ]
  },
  {
   "cell_type": "code",
   "execution_count": 13,
   "metadata": {},
   "outputs": [
    {
     "name": "stdout",
     "output_type": "stream",
     "text": [
      "AAAAA\n",
      "BBBBB\n",
      "CCCCC\n",
      "DDDDD\n",
      "EEEEE\n"
     ]
    }
   ],
   "source": [
    "for i in range(65,70):\n",
    "    for j in range(65,70):\n",
    "        print(chr(i),end=\"\")\n",
    "    print(\"\\r\")"
   ]
  },
  {
   "cell_type": "code",
   "execution_count": 16,
   "metadata": {},
   "outputs": [
    {
     "name": "stdout",
     "output_type": "stream",
     "text": [
      "M\n",
      "MN\n",
      "MNO\n",
      "MNOP\n",
      "MNOPQ\n"
     ]
    }
   ],
   "source": [
    "for i in range(ord('M'),ord('Q')+1):\n",
    "    for j in range(ord('M'),i+1):\n",
    "        print(chr(j),end=\"\")\n",
    "    print('\\r')"
   ]
  },
  {
   "cell_type": "code",
   "execution_count": 19,
   "metadata": {},
   "outputs": [
    {
     "name": "stdout",
     "output_type": "stream",
     "text": [
      "A\n",
      "BC\n",
      "CDE\n",
      "DEFG\n",
      "EFGHI\n"
     ]
    }
   ],
   "source": [
    "for i in range(65,70):\n",
    "    alpha = i\n",
    "    for j in range(65,i+1):\n",
    "        print(chr(alpha),end=\"\")\n",
    "        alpha+=1\n",
    "    print('\\r')\n"
   ]
  },
  {
   "cell_type": "code",
   "execution_count": 28,
   "metadata": {},
   "outputs": [
    {
     "name": "stdout",
     "output_type": "stream",
     "text": [
      "    * \n",
      "   * * \n",
      "  * * * \n",
      " * * * * \n",
      "* * * * * \n"
     ]
    }
   ],
   "source": [
    "n = 5\n",
    "for i in range(1,n+1):\n",
    "    for k in range(i,n):\n",
    "        print(\" \",end=\"\")\n",
    "    for j in range(1,i+1):\n",
    "        print(\"*\",end=\" \")\n",
    "    print(\"\\r\")"
   ]
  },
  {
   "cell_type": "code",
   "execution_count": 3,
   "metadata": {},
   "outputs": [
    {
     "name": "stdout",
     "output_type": "stream",
     "text": [
      "\n",
      "* \n",
      "* * \n",
      "* * * \n",
      "* * * * \n",
      "* * * * * \n"
     ]
    }
   ],
   "source": [
    "n = 5 #int(input(\"Enter the number:\"))\n",
    "for i in range(0,n+1):\n",
    "    for j in range(0,i):\n",
    "        print(\"*\",end=\" \")\n",
    "    print(\"\\r\")"
   ]
  },
  {
   "cell_type": "code",
   "execution_count": 38,
   "metadata": {},
   "outputs": [
    {
     "name": "stdout",
     "output_type": "stream",
     "text": [
      "     \n",
      "    *\n",
      "   **\n",
      "  ***\n",
      " ****\n",
      "*****\n"
     ]
    }
   ],
   "source": [
    "n = 5 #int(input(\"Enter the number:\"))\n",
    "for i in range(0,n+1):\n",
    "    for k in range(i,n):\n",
    "        print(\" \",end=\"\")\n",
    "    for j in range(0,i):\n",
    "        print(\"*\",end=\"\")\n",
    "    print(\"\\r\")"
   ]
  },
  {
   "cell_type": "code",
   "execution_count": 50,
   "metadata": {},
   "outputs": [
    {
     "name": "stdout",
     "output_type": "stream",
     "text": [
      "     *\n",
      "    * *\n",
      "   * * *\n",
      "  * * * *\n",
      " * * * * *\n",
      "  * * * *\n",
      "   * * *\n",
      "    * *\n",
      "     *\n"
     ]
    }
   ],
   "source": [
    "n = 5\n",
    "for i in range(1,n+1):\n",
    "    for k in range(i,n):\n",
    "        print(\" \",end=\"\")\n",
    "    for j in range(1,i+1):\n",
    "        print(\" *\",end=\"\")\n",
    "    print(\"\\r\")\n",
    "for i in range(n,1,-1):\n",
    "    for k in range(i,n+1):\n",
    "        print(\" \",end=\"\")\n",
    "    for j in range(1,i):\n",
    "        print(\" *\",end=\"\")\n",
    "    print(\"\\r\")"
   ]
  },
  {
   "cell_type": "code",
   "execution_count": 14,
   "metadata": {},
   "outputs": [
    {
     "name": "stdout",
     "output_type": "stream",
     "text": [
      " * * *\n",
      "  * *\n",
      "   *\n",
      "  * *\n",
      " * * *\n"
     ]
    }
   ],
   "source": [
    "n = int(input(\"enter the N value: \"))\n",
    "for i in range(n+1,2,-1):\n",
    "    for k in range(i,n+1):\n",
    "        print(\" \",end=\"\")\n",
    "    for j in range(1,i):\n",
    "        print(\" *\",end=\"\")\n",
    "    print(\"\\r\")\n",
    "for i in range(1,n+1):\n",
    "    for k in range(i,n):\n",
    "        print(\" \",end=\"\")\n",
    "    for j in range(1,i+1):\n",
    "        print(\" *\",end=\"\")\n",
    "    print(\"\\r\")\n"
   ]
  },
  {
   "cell_type": "code",
   "execution_count": 13,
   "metadata": {},
   "outputs": [
    {
     "name": "stdout",
     "output_type": "stream",
     "text": [
      "* * * \n",
      " * * * \n",
      "  * * * \n",
      "   * * * \n",
      "  * * * \n",
      " * * * \n",
      "* * * \n"
     ]
    }
   ],
   "source": [
    "n = int(input(\"enter the N value: \"))+1\n",
    "def space(i,n):\n",
    "    for j in range(i,n):\n",
    "        print(\" \",end=\"\")\n",
    "def star(i,n):\n",
    "    for j in range(i,n):\n",
    "        print(\"*\",end=\" \")\n",
    "for i in range(n+1,2,-1):\n",
    "    space(i,n+1) \n",
    "    star(1,n)\n",
    "    print(\"\\r\")\n",
    "for i in range(1,n+1):\n",
    "    space(i,n)\n",
    "    star(1,n)\n",
    "    print(\"\\r\")"
   ]
  },
  {
   "cell_type": "code",
   "execution_count": 12,
   "metadata": {},
   "outputs": [
    {
     "name": "stdout",
     "output_type": "stream",
     "text": [
      "* * *  * * * \n",
      " * * *   * * * \n",
      "  * * *    * * * \n",
      "   * * *     * * * \n",
      "  * * *    * * * \n",
      " * * *   * * * \n",
      "* * *  * * * \n"
     ]
    }
   ],
   "source": [
    "n = int(input(\"enter the N value: \"))+1\n",
    "def space(i,n):\n",
    "    for j in range(i,n):\n",
    "        print(\" \",end=\"\")\n",
    "def star(i,n):\n",
    "    for j in range(i,n):\n",
    "        print(\"*\",end=\" \")\n",
    "for i in range(n+1,2,-1):\n",
    "    space(i,n+1)\n",
    "    star(1,n)\n",
    "    space(i,n+2)\n",
    "    star(1,n)\n",
    "    print(\"\\r\")\n",
    "for i in range(1,n+1):\n",
    "    space(i,n)\n",
    "    star(1,n)\n",
    "    space(i,n+1)\n",
    "    star(1,n)\n",
    "    print(\"\\r\")"
   ]
  },
  {
   "cell_type": "code",
   "execution_count": 6,
   "metadata": {},
   "outputs": [
    {
     "name": "stdout",
     "output_type": "stream",
     "text": [
      "*   *\n",
      " * * \n",
      "  *  \n",
      " * * \n",
      "*   *\n"
     ]
    }
   ],
   "source": [
    "n = int(input('Enter the Value of N: '))\n",
    "for i in range(1,2*n):\n",
    "    for j in range(1,2*n):\n",
    "        if i==j or i+j==2*n:\n",
    "            print('*', end=\"\")\n",
    "        else:\n",
    "            print(' ',end=\"\")\n",
    "    print(\"\\r\")"
   ]
  }
 ],
 "metadata": {
  "interpreter": {
   "hash": "3190b06ade31a75418675de700400a3b97ede2a72bf109fbe1bca6861adfc382"
  },
  "kernelspec": {
   "display_name": "Python 3.9.9 64-bit (windows store)",
   "language": "python",
   "name": "python3"
  },
  "language_info": {
   "codemirror_mode": {
    "name": "ipython",
    "version": 3
   },
   "file_extension": ".py",
   "mimetype": "text/x-python",
   "name": "python",
   "nbconvert_exporter": "python",
   "pygments_lexer": "ipython3",
   "version": "3.9.9"
  },
  "orig_nbformat": 4
 },
 "nbformat": 4,
 "nbformat_minor": 2
}
